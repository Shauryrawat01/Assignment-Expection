{
 "cells": [
  {
   "cell_type": "code",
   "execution_count": 1,
   "id": "86664dd7-df8f-4218-9be9-32a900b1afa7",
   "metadata": {},
   "outputs": [],
   "source": [
    "#Question 1\n",
    "#it is a situation that occurs when your code is running and something unexpected or abnormal happens and we have to run our program without error in terminal \n",
    "#syntax error is error when programmer does not write code as  format as per language requirent this \n",
    "#error is generally done by programmer and while in case of expection error is generally create by situtaion\n",
    "#For example 10/0 is an expection error while worng fomat is an syntax error\n"
   ]
  },
  {
   "cell_type": "code",
   "execution_count": 2,
   "id": "f322ad95-90fc-40a4-b86e-aaffd3076518",
   "metadata": {},
   "outputs": [],
   "source": [
    "#question 2\n",
    "#In case in expection handling if expection if not handled it stop the futher code in terminanl\n",
    "#code stuck at one place in this case\n",
    "#for example we made a calculator in this case someone type 10/0 in calculator it goes in infinate loop to stop it we simpally use expection handling\n"
   ]
  },
  {
   "cell_type": "code",
   "execution_count": 3,
   "id": "c1fd61fe-f644-4620-96e5-3288b967e0f0",
   "metadata": {},
   "outputs": [
    {
     "name": "stdout",
     "output_type": "stream",
     "text": [
      "you divided it with zero\n"
     ]
    }
   ],
   "source": [
    "#question 3\n",
    "#Try can deal with unexpected situations in a controlled manner.\n",
    "try:\n",
    "    \n",
    "    result = 10 / 0  \n",
    "except ZeroDivisionError:\n",
    "    print(\"you divided it with zero\")"
   ]
  },
  {
   "cell_type": "code",
   "execution_count": 5,
   "id": "da8c56bb-aae5-4968-bfd8-d38f33e96315",
   "metadata": {},
   "outputs": [
    {
     "name": "stdout",
     "output_type": "stream",
     "text": [
      "it can not be divide by zero\n"
     ]
    }
   ],
   "source": [
    "#Question 4\n",
    "#The try block is where you place the code that might raise an exception. If an exception occurs within the try block, the code execution jumps to the corresponding except block that matches the type of exception raised.\n",
    "#For example\n",
    "try:\n",
    "    result = 10 / 0\n",
    "except ZeroDivisionError:\n",
    "    print(\"it can not be divide by zero\")\n"
   ]
  },
  {
   "cell_type": "code",
   "execution_count": 6,
   "id": "c6bd419d-d422-4391-b82f-e6f7a1d6aef5",
   "metadata": {},
   "outputs": [
    {
     "name": "stdout",
     "output_type": "stream",
     "text": [
      "No error\n",
      "This keyword is run\n"
     ]
    }
   ],
   "source": [
    "#Question 4\n",
    "#finally\n",
    "#finally keyword is used in combination with the try and except blocks to define a section of code\n",
    "#that should be executed regardless of whether an exception was raised or not.\n",
    "#for example\n",
    "try:\n",
    "    result = 10 / 2\n",
    "except ZeroDivisionError:\n",
    "    print(\"divide by zero.\")\n",
    "else:\n",
    "    print(\"No error\")\n",
    "finally:\n",
    "    print(\"This keyword is run\")\n"
   ]
  },
  {
   "cell_type": "code",
   "execution_count": 8,
   "id": "981c6917-a4f9-4698-b73a-fe60f9c0fcf8",
   "metadata": {},
   "outputs": [
    {
     "name": "stdout",
     "output_type": "stream",
     "text": [
      "Division by zero is not allowed.\n"
     ]
    }
   ],
   "source": [
    "#Question 4\n",
    "#raise\n",
    "#when we create our own expection we geranally use raise for example\n",
    "def divide(x, y):\n",
    "    if y == 0:\n",
    "        raise ZeroDivisionError(\"Division by zero is not allowed.\")\n",
    "    return x / y\n",
    "\n",
    "try:\n",
    "    result = divide(10, 0)\n",
    "except ZeroDivisionError as e:\n",
    "    print(e)"
   ]
  },
  {
   "cell_type": "code",
   "execution_count": 10,
   "id": "80944719-8325-4a6c-b51f-af602a6797ec",
   "metadata": {},
   "outputs": [
    {
     "name": "stdout",
     "output_type": "stream",
     "text": [
      "An error occurred: Value is too high!\n"
     ]
    }
   ],
   "source": [
    "#question 5\n",
    "#it is use to define your own expection \n",
    "#it is use when we think that in any case error can happend in that case we create constum expection\n",
    "#for example\n",
    "class MyCustomError(Exception):\n",
    "    def __init__(self, message):\n",
    "        self.message = message\n",
    "        super().__init__(self.message)\n",
    "\n",
    "def check_value(x):\n",
    "    if x > 100:\n",
    "        raise MyCustomError(\"Value is too high!\")\n",
    "try:\n",
    "    check_value(150)\n",
    "except MyCustomError as e:\n",
    "    print(f\"An error occurred: {e}\")"
   ]
  },
  {
   "cell_type": "code",
   "execution_count": 11,
   "id": "d6ca54c3-261f-4c8c-8f72-315955867d21",
   "metadata": {},
   "outputs": [
    {
     "name": "stdout",
     "output_type": "stream",
     "text": [
      "An error occurred: Value is too high!\n"
     ]
    }
   ],
   "source": [
    "#Question 6\n",
    "class MyCustomError(Exception):\n",
    "    def __init__(self, message):\n",
    "        self.message = message\n",
    "        super().__init__(self.message)\n",
    "\n",
    "def check_value(x):\n",
    "    if x > 100:\n",
    "        raise MyCustomError(\"Value is too high!\")\n",
    "try:\n",
    "    check_value(150)\n",
    "except MyCustomError as e:\n",
    "    print(f\"An error occurred: {e}\")"
   ]
  },
  {
   "cell_type": "code",
   "execution_count": null,
   "id": "549d7e4b-a5c8-4edf-bb73-5af6a6ec193c",
   "metadata": {},
   "outputs": [],
   "source": []
  }
 ],
 "metadata": {
  "kernelspec": {
   "display_name": "Python 3 (ipykernel)",
   "language": "python",
   "name": "python3"
  },
  "language_info": {
   "codemirror_mode": {
    "name": "ipython",
    "version": 3
   },
   "file_extension": ".py",
   "mimetype": "text/x-python",
   "name": "python",
   "nbconvert_exporter": "python",
   "pygments_lexer": "ipython3",
   "version": "3.11.4"
  }
 },
 "nbformat": 4,
 "nbformat_minor": 5
}
